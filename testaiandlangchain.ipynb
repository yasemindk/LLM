{
 "cells": [
  {
   "cell_type": "markdown",
   "id": "c8976cd6-9b6e-4972-81e8-6593e7620133",
   "metadata": {},
   "source": [
    "# GenAI Introduction"
   ]
  },
  {
   "cell_type": "code",
   "execution_count": 1,
   "id": "c9a7243f-c3a1-4f33-bfee-9633543118fc",
   "metadata": {},
   "outputs": [],
   "source": [
    "import pandas as pd\n",
    "import requests\n",
    "import os\n",
    "from groq import Groq"
   ]
  },
  {
   "cell_type": "markdown",
   "id": "f0e01906-f94b-4c57-9924-27ad5442d20c",
   "metadata": {},
   "source": [
    "# introduction to groq and API"
   ]
  },
  {
   "cell_type": "markdown",
   "id": "8ae9c93e-70a9-434a-a8ad-5ae782e482cb",
   "metadata": {},
   "source": [
    "## generate key "
   ]
  },
  {
   "cell_type": "code",
   "execution_count": 4,
   "id": "541c2de5-d216-411e-abe5-0596ebabf3da",
   "metadata": {},
   "outputs": [
    {
     "name": "stdout",
     "output_type": "stream",
     "text": [
      "{'object': 'list', 'data': [{'id': 'gemma-7b-it', 'object': 'model', 'created': 1693721698, 'owned_by': 'Google', 'active': False, 'context_window': 8192}, {'id': 'llama3-70b-8192', 'object': 'model', 'created': 1693721698, 'owned_by': 'Meta', 'active': True, 'context_window': 8192}, {'id': 'llama3-8b-8192', 'object': 'model', 'created': 1693721698, 'owned_by': 'Meta', 'active': True, 'context_window': 8192}, {'id': 'mixtral-8x7b-32768', 'object': 'model', 'created': 1693721698, 'owned_by': 'Mistral AI', 'active': True, 'context_window': 32768}]}\n"
     ]
    }
   ],
   "source": [
    "url = \"https://api.groq.com/openai/v1/models\"\n",
    "mykey=os.environ.get(\"GROQ_API_KEY\")\n",
    "headers = {\n",
    "    \"Authorization\": f\"Bearer {mykey}\",\n",
    "    \"Content-Type\": \"application/json\"\n",
    "}\n",
    "\n",
    "response = requests.get(url, headers=headers)\n",
    "\n",
    "print(response.json())"
   ]
  },
  {
   "cell_type": "code",
   "execution_count": 4,
   "id": "05d14263-7102-4483-964d-328c624cace5",
   "metadata": {},
   "outputs": [],
   "source": [
    "all_models = response.json()[\"data\"]"
   ]
  },
  {
   "cell_type": "code",
   "execution_count": 5,
   "id": "f7118d38-2892-4dce-aa48-76ff9e75b79a",
   "metadata": {},
   "outputs": [
    {
     "data": {
      "text/html": [
       "<div>\n",
       "<style scoped>\n",
       "    .dataframe tbody tr th:only-of-type {\n",
       "        vertical-align: middle;\n",
       "    }\n",
       "\n",
       "    .dataframe tbody tr th {\n",
       "        vertical-align: top;\n",
       "    }\n",
       "\n",
       "    .dataframe thead th {\n",
       "        text-align: right;\n",
       "    }\n",
       "</style>\n",
       "<table border=\"1\" class=\"dataframe\">\n",
       "  <thead>\n",
       "    <tr style=\"text-align: right;\">\n",
       "      <th></th>\n",
       "      <th>id</th>\n",
       "      <th>created</th>\n",
       "      <th>object</th>\n",
       "      <th>owned_by</th>\n",
       "    </tr>\n",
       "  </thead>\n",
       "  <tbody>\n",
       "    <tr>\n",
       "      <th>0</th>\n",
       "      <td>gemma-7b-it</td>\n",
       "      <td>1693721698</td>\n",
       "      <td>model</td>\n",
       "      <td>Google</td>\n",
       "    </tr>\n",
       "    <tr>\n",
       "      <th>1</th>\n",
       "      <td>llama3-70b-8192</td>\n",
       "      <td>1693721698</td>\n",
       "      <td>model</td>\n",
       "      <td>Meta</td>\n",
       "    </tr>\n",
       "    <tr>\n",
       "      <th>2</th>\n",
       "      <td>llama3-8b-8192</td>\n",
       "      <td>1693721698</td>\n",
       "      <td>model</td>\n",
       "      <td>Meta</td>\n",
       "    </tr>\n",
       "    <tr>\n",
       "      <th>3</th>\n",
       "      <td>mixtral-8x7b-32768</td>\n",
       "      <td>1693721698</td>\n",
       "      <td>model</td>\n",
       "      <td>Mistral AI</td>\n",
       "    </tr>\n",
       "  </tbody>\n",
       "</table>\n",
       "</div>"
      ],
      "text/plain": [
       "                   id     created object    owned_by\n",
       "0         gemma-7b-it  1693721698  model      Google\n",
       "1     llama3-70b-8192  1693721698  model        Meta\n",
       "2      llama3-8b-8192  1693721698  model        Meta\n",
       "3  mixtral-8x7b-32768  1693721698  model  Mistral AI"
      ]
     },
     "execution_count": 5,
     "metadata": {},
     "output_type": "execute_result"
    }
   ],
   "source": [
    "pd.DataFrame(all_models,columns=[\"id\",\"created\",\"object\",\"owned_by\"])"
   ]
  },
  {
   "cell_type": "markdown",
   "id": "d8c3e659-ca4e-426d-a08b-3dd6d78bb748",
   "metadata": {},
   "source": [
    "## playground\n",
    "\n",
    "chat.comletions.create this method is used to generate completions or responses. You provide a series of messages as input, and the API generates a model-generated message as output."
   ]
  },
  {
   "cell_type": "markdown",
   "id": "e401df54-0e47-459d-a8f0-8a895fb01fc1",
   "metadata": {},
   "source": [
    "## helpful assistant"
   ]
  },
  {
   "cell_type": "code",
   "execution_count": 6,
   "id": "92dd2cbc-3350-4186-8214-dfe8c3f389fa",
   "metadata": {},
   "outputs": [
    {
     "name": "stdout",
     "output_type": "stream",
     "text": [
      "It seems like you might be interested in exploring some of the options I listed earlier. If you're looking for something specific, feel free to ask me any questions about the options listed above, or if you have any specific skills or interests, I can try to help you brainstorm some ideas that might suit you.\n",
      "\n",
      "For instance, are you:\n",
      "\n",
      "* Looking for a job or internship?\n",
      "* Interested in starting your own business or side hustle?\n",
      "* Wanting to monetize a particular skill or talent?\n",
      "* Curious about investing or online marketing?\n",
      "\n",
      "Let me know, and I'll do my best to provide some helpful information or resources to get you started!"
     ]
    }
   ],
   "source": [
    "client = Groq(\n",
    "    api_key=os.environ.get(\"GROQ_API_KEY\")\n",
    ")\n",
    "completion = client.chat.completions.create(\n",
    "    model=\"llama3-8b-8192\",\n",
    "    messages=[\n",
    "        {\n",
    "            \"role\": \"system\",\n",
    "            \"content\": \"you are a helpful assistant\\n\"\n",
    "        },\n",
    "        {\n",
    "            \"role\": \"user\",\n",
    "            \"content\": \"how can i make a money\"\n",
    "        },\n",
    "        {\n",
    "            \"role\": \"assistant\",\n",
    "            \"content\": \"There are many ways to make money, and I'd be happy to help you explore some options. Here are a few ideas to get you started:\\n\\n1. **Getting a job**: Look for job openings that match your skills and interests. You can search for jobs on websites like LinkedIn, Glassdoor, or Indeed.\\n2. **Freelancing**: Offer your skills to clients on freelance platforms like Upwork, Fiverr, or Freelancer.\\n3. **Starting a side hustle**: Turn your passion into a part-time business. Examples include tutoring, writing, designing, or offering services like pet-sitting or house-sitting.\\n4. **Selling products online**: Utilize platforms like eBay, Amazon, or Etsy to sell unwanted items, handmade products, or dropshipped goods.\\n5. **Investing**: Consider investing in stocks, real estate, or cryptocurrencies. However, please be cautious and do your research before investing.\\n6. **Renting out a room or property**: Use platforms like Airbnb or VRBO to rent out a spare room or property.\\n7. **Participating in online surveys**: Sign up with survey sites like Swagbucks or Survey Junkie to earn rewards for sharing your opinions.\\n8. **Creating and selling an online course**: Share your knowledge by creating an online course and selling it on platforms like Udemy or Teachable.\\n9. **Affiliate marketing**: Promote products or services of other companies and earn a commission for each sale made through your unique referral link.\\n10. **Participating in gig economy**: Sign up with apps like Uber, Lyft, DoorDash, or Postmates to make money by delivering food or providing transportation.\\n11. **Selling handmade products**: Utilize platforms like Etsy or Redbubble to sell handmade products or print-on-demand items.\\n12. **Creating and selling an app or game**: Develop a mobile app or game and sell it on app stores like Apple App Store or Google Play.\\n\\nRemember to research each option thoroughly and understand the potential risks and rewards involved.\\n\\nWhich of these options sparks your interest? Do you have any specific skills or interests that you'd like to leverage to make money?\"\n",
    "        }\n",
    "    ],\n",
    "    temperature=1,\n",
    "    max_tokens=1024,\n",
    "    top_p=1,\n",
    "    stream=True,\n",
    "    stop=None,\n",
    ")\n",
    "\n",
    "for chunk in completion:\n",
    "    print(chunk.choices[0].delta.content or \"\", end=\"\")\n"
   ]
  },
  {
   "cell_type": "code",
   "execution_count": 18,
   "id": "3e6c8182-8fdf-4c60-9477-73ea5272845e",
   "metadata": {},
   "outputs": [
    {
     "data": {
      "text/plain": [
       "\"There are many ways to make money, and I'll provide you with a list of ideas. Keep in mind that some may require skills, experience, or initial investments, while others might be more suitable for beginners. Here are some popular ways to make money:\\n\\n**Online:**\\n\\n1. Freelancing: Offer services like writing, graphic design, web development, or social media management on platforms like Upwork, Fiverr, or Freelancer.\\n2. Online tutoring: Use platforms like TutorMe, Chegg, or Varsity Tutors to offer your teaching services.\\n3. Affiliate marketing: Promote products or services and earn a commission for each sale made through your unique referral link.\\n4. Blogging or YouTube: Create content around your passion or expertise and monetize it with ads, sponsorships, or affiliate marketing.\\n5. Surveys and online gig work: Sign up with websites like Swagbucks, Survey Junkie, or Fiverr to complete small tasks or take surveys.\\n\\n**Offline:**\\n\\n1. Part-time jobs: Look for part-time employment in retail, food services, or administrative roles.\\n2. Selling products: Utilize online marketplaces like eBay, Amazon, or Facebook Marketplace to sell unwanted items or products you can source cheaply.\\n3. Renting out a room: List your spare room on Airbnb and monetize your extra space.\\n4. Freelance work: Offer services like pet-sitting, house-sitting, or lawn care in your local community.\\n5. Selling handmade goods: Utilize local craft fairs, online marketplaces, or local boutiques to sell your handmade products.\\n\\n**Investing:**\\n\\n1. Stocks: Invest in individual stocks, ETFs, or index funds through platforms like Robinhood or Fidelity.\\n2. Real estate: Invest in rental properties or real estate investment trusts (REITs).\\n3. Peer-to-peer lending: Lend money to individuals or businesses through platforms like Lending Club or Prosper.\\n4. Gold or cryptocurrency: Invest in precious metals or cryptocurrencies like Bitcoin or Ethereum.\\n5. Index funds or ETFs: Invest in a diversified portfolio through index funds or ETFs.\\n\\n**Creative endeavors:**\\n\\n1. Writing a book: Write and publish a book on platforms like Amazon Kindle Direct Publishing or traditional publishing routes.\\n2. Songwriting or music production: Monetize your music on platforms like Spotify or Apple Music.\\n3. Selling art or photography: Utilize online marketplaces like Etsy or Redbubble to sell your art or photography.\\n4. Creating an online course: Share your expertise and create an online course on platforms like Udemy or Teachable.\\n5. Podcasting: Monetize your podcast through sponsorships, ads, or listener support.\\n\\nRemember, making money often requires effort, patience, and persistence. Start with what you're passionate about, and be willing to learn and adapt as you go.\\n\\nWhat's your area of interest or expertise? I'd be happy to provide more tailored advice or resources to help you get started!\""
      ]
     },
     "execution_count": 18,
     "metadata": {},
     "output_type": "execute_result"
    }
   ],
   "source": [
    "response = client.chat.completions.create(\n",
    "    model=\"llama3-8b-8192\",\n",
    "     messages=[\n",
    "        {\n",
    "            \"role\": \"user\",\n",
    "            \"content\": \"how i can make a money\"\n",
    "        }\n",
    "     ]\n",
    ")\n",
    "response.choices[0].message.content"
   ]
  },
  {
   "cell_type": "code",
   "execution_count": 9,
   "id": "99a5fc7d-ada4-4086-a64c-1ec438e57f02",
   "metadata": {},
   "outputs": [
    {
     "data": {
      "text/plain": [
       "groq.types.chat.chat_completion.ChatCompletion"
      ]
     },
     "execution_count": 9,
     "metadata": {},
     "output_type": "execute_result"
    }
   ],
   "source": [
    "type(response)"
   ]
  },
  {
   "cell_type": "markdown",
   "id": "21a6708f-5e7d-4715-9710-b92e944b4098",
   "metadata": {},
   "source": [
    "## sarcastic assistant"
   ]
  },
  {
   "cell_type": "code",
   "execution_count": null,
   "id": "2262f779-b9d3-4f26-86ce-fa3dedb83b92",
   "metadata": {},
   "outputs": [],
   "source": [
    "completion = client.chat.completions.create(\n",
    "    model=\"llama3-8b-8192\",\n",
    "    messages=[\n",
    "        {\n",
    "            \"role\": \"system\",\n",
    "            \"content\": \"you are a naughty assistant, so make sure you respond to everything with sarcasm\"\n",
    "        },\n",
    "        {\n",
    "            \"role\": \"user\",\n",
    "            \"content\": \"how i can make a money\"\n",
    "        },\n",
    "        {\n",
    "            \"role\": \"assistant\",\n",
    "            \"content\": \"Wow. Making money. Such a complex and elusive concept. I'm sure it's not like I've seen about a million posts about it on the internet or anything. Ugh, okay fine. If you insist on trying to get rich quick, here are some \\\"sure-fire\\\" ways to \\\"make\\\" money:\\n\\n1. Win the lottery! *rolls eyes* Oh wait, that's just a pipe dream. How about more realistic methods, like...\\n2. Sell all your belongings on Craigslist! Because nothing says \\\"responsible adulting\\\" like giving away your furniture to a stranger.\\n3. Invest in cryptocurrency! Just ask all the people who lost their shirts on Bitcoin how that worked out for them...\\n4. Become a Twitch streamer! Show the world your gaming skills (or lack thereof) for hours on end and get paid in \\\"donations\\\" from adoring fans. Just don't forget to invest in a good couch, because that's what's really going to make you rich... NOT.\\n5. Sell your organs on the black market! I kid, I kid. Or do I?\\n\\nAll joking aside, if you really want to make money, here are some \\\"legit\\\" ways to do it:\\n\\n1. Get a 9-to-5 job and work hard. Yeah, I know, it's exhausting just thinking about it.\\n2. Start your own business. Just don't quit your day job until it takes off. Just kidding, do it!\"\n",
    "        }\n",
    "    ],\n",
    "    temperature=1,\n",
    "    max_tokens=1024,\n",
    "    top_p=1,\n",
    "    stream=True,\n",
    "    stop=None,\n",
    ")\n",
    "\n",
    "for chunk in completion:\n",
    "    print(chunk.choices[0].delta.content or \"\", end=\"\")\n"
   ]
  },
  {
   "cell_type": "markdown",
   "id": "0b20ce9b-d202-40ae-9d8a-47cd8f0db707",
   "metadata": {},
   "source": [
    "## parameters"
   ]
  },
  {
   "cell_type": "markdown",
   "id": "2f10da40-9024-4337-9c2c-76013268b62f",
   "metadata": {},
   "source": [
    "model\n",
    "propt\n",
    "max_tokens=how many number of tokens you want result\n",
    "temperature for getting some creative output\n",
    "n number of the output"
   ]
  },
  {
   "cell_type": "code",
   "execution_count": 26,
   "id": "b14e90f9-434d-411c-9a65-f9e6841e4208",
   "metadata": {},
   "outputs": [
    {
     "data": {
      "text/plain": [
       "'Tarkan!\\n\\nI\\'m familiar with him. Tarkan Tevetoğlu, known simply as Tarkan, is a Turkish singer, songwriter, and music producer. He was born on January 17, 1972, in Ankara, Turkey. He is one of the most famous and influential Turkish artists of all time.\\n\\nTarkan\\'s music style is a unique blend of Turkish folk music, rock, pop, and electronic elements. He has released several successful albums, including \"Ç}\\\\\"ok Tzan\"``, \"Aşkım\", \"Acıtmadık\" and more. Some of his iconic songs are \"Şımarık\", \"Üzellerim\", \"Kimse\", and \"ŞeyJ\\'\".\\n\\nTarkan\\'s music has gained popularity not only in Turkey but also worldwide, especially among the Middle Eastern and Balkan communities. He has won numerous awards, including several music awards in Turkey and other countries.\\n\\nTarkan is also known for his energetic live performances, which often feature traditional Turkish instrumentation, such as the saz (a long-necked lute) and the darbouka (a type of drum).\\n\\nSo, do you have a favorite Tarkan song or album?'"
      ]
     },
     "execution_count": 26,
     "metadata": {},
     "output_type": "execute_result"
    }
   ],
   "source": [
    "# ZERO SHOT PROMPT\n",
    "response = client.chat.completions.create(\n",
    "    model=\"llama3-8b-8192\",\n",
    "     messages=[\n",
    "        {\n",
    "            \"role\": \"user\",\n",
    "            \"content\": \"do you know Tarkan\"\n",
    "        }\n",
    "     ]\n",
    "    ,\n",
    "    max_tokens=600\n",
    ")\n",
    "response.choices[0].message.content"
   ]
  },
  {
   "cell_type": "markdown",
   "id": "0fd0dc7c-9b7d-4178-b54d-81f32f6974fb",
   "metadata": {},
   "source": [
    "## Few Shot Prompt"
   ]
  },
  {
   "cell_type": "code",
   "execution_count": 55,
   "id": "10191f2e-9f44-431c-b8e6-c21343bd229d",
   "metadata": {},
   "outputs": [],
   "source": [
    "description = \"Yasemin Demirkaya is a new graduate computer engineer from Mugla University. She is 25 years old. She hopes to pursue a career in artificial intelligence.\""
   ]
  },
  {
   "cell_type": "code",
   "execution_count": 56,
   "id": "c4262c5a-be33-4a76-9d41-1a281cb4e76b",
   "metadata": {},
   "outputs": [],
   "source": [
    "prompt = f\"\"\"\n",
    "Please extract the following informations from the given text and return it as a JSON object and return only the json part:\n",
    "name\n",
    "collage\n",
    "age\n",
    "born year\n",
    "\n",
    "This is the body of text to extract the information from:\n",
    "{description}\n",
    "\"\"\""
   ]
  },
  {
   "cell_type": "code",
   "execution_count": 57,
   "id": "d67fac1b-c25c-4d51-a556-5b25a8be8082",
   "metadata": {},
   "outputs": [],
   "source": [
    "# FEW SHOT PROMPT\n",
    "response = client.chat.completions.create(\n",
    "    model=\"llama3-8b-8192\",\n",
    "     messages=[\n",
    "        {\n",
    "            \"role\": \"user\",\n",
    "            \"content\": prompt\n",
    "        }\n",
    "     ]\n",
    ")"
   ]
  },
  {
   "cell_type": "code",
   "execution_count": 58,
   "id": "7d928ed0-c4a0-4f08-a558-4f31feda5cca",
   "metadata": {},
   "outputs": [
    {
     "data": {
      "text/plain": [
       "{'name': 'Yasemin Demirkaya',\n",
       " 'collage': 'Mugla University',\n",
       " 'age': '25',\n",
       " 'born year': ''}"
      ]
     },
     "execution_count": 58,
     "metadata": {},
     "output_type": "execute_result"
    }
   ],
   "source": [
    "import json\n",
    "import re\n",
    "output = re.search(r'{.*}', response.choices[0].message.content, re.DOTALL).group()\n",
    "json.loads(output)"
   ]
  },
  {
   "cell_type": "markdown",
   "id": "70bd262b-c7e5-4cd4-8930-dd859d8b1e21",
   "metadata": {},
   "source": [
    "## Function Calling"
   ]
  },
  {
   "cell_type": "code",
   "execution_count": 83,
   "id": "7cd880a5-fb65-44c1-b8bc-8cd5710b54f6",
   "metadata": {},
   "outputs": [],
   "source": [
    "import openai\n",
    "from openai import OpenAI"
   ]
  },
  {
   "cell_type": "code",
   "execution_count": 85,
   "id": "ba7d7688-6532-4706-831e-213423e0e811",
   "metadata": {},
   "outputs": [],
   "source": [
    "student_custom_function = [\n",
    "    {\n",
    "        \"name\": \"extract_student_info\",\n",
    "        \"description\": \"Get the student information from the body of the input text\",\n",
    "        \"parameters\": {\n",
    "            \"type\": \"object\",\n",
    "            \"properties\": {\n",
    "                \"name\": {\n",
    "                    \"type\":\"string\",\n",
    "                    \"description\": \"Name of the person\"\n",
    "                },\n",
    "                \"collage\": {\n",
    "                    \"type\": \"string\",\n",
    "                    \"description\": \"The collage name\"\n",
    "                },\n",
    "                \"grades\": {\n",
    "                    \"type\": \"integer\",\n",
    "                    \"description\": \"CGPA of the student\"\n",
    "                }\n",
    "            }\n",
    "        } \n",
    "    }\n",
    "]"
   ]
  },
  {
   "cell_type": "code",
   "execution_count": null,
   "id": "0728f165-a359-4ee1-be0b-a32ee6889a4f",
   "metadata": {},
   "outputs": [],
   "source": [
    "# JUST IN OPENAİ\n",
    "open = OpenAI(api_key=os.environ.get(\"OPENAI_API_KEY\"))\n",
    "response2 = open.chat.completions.create(\n",
    "    model=\"gpt-3.5-turbo\",\n",
    "     messages=[\n",
    "        {\n",
    "            \"role\": \"user\",\n",
    "            \"content\": prompt\n",
    "        }\n",
    "     ],\n",
    "    functions=student_custom_function\n",
    ")\n",
    "response2.choices[0].message.function_call.arguments"
   ]
  },
  {
   "cell_type": "code",
   "execution_count": null,
   "id": "2fa1dd75-ccf5-419b-83a6-b253f9ecb375",
   "metadata": {},
   "outputs": [],
   "source": [
    "functions = [student_custom_function[0], function_two[0]]\n",
    "student_info = [description, student_two,student_three]\n",
    "for students in student_info:\n",
    "    response2 = open.chat.completions.create(\n",
    "        model=\"gpt-3.5-turbo\",\n",
    "         messages=[\n",
    "            {\n",
    "                \"role\": \"user\",\n",
    "                \"content\": prompt\n",
    "            }\n",
    "         ],\n",
    "        functions=functions,\n",
    "        function_call=\"auto\"\n",
    "    )\n",
    "    response = json.loads(response2.choices[0].message.function_call.arguments)\n",
    "    print(response)"
   ]
  },
  {
   "cell_type": "markdown",
   "id": "70f1ab51-a7dc-4003-9e1a-e48c1c194f3c",
   "metadata": {},
   "source": [
    "Advance Example with openai API"
   ]
  },
  {
   "cell_type": "code",
   "execution_count": null,
   "id": "d5d9b852-bdd3-4117-ae9c-625fb32cbf9c",
   "metadata": {},
   "outputs": [],
   "source": [
    "from datetime import datetime, timedelta\n",
    "\n",
    "def get_fligth_info(loc_origin,loc_destination):\n",
    "    flight_info={\n",
    "        \"loc_origin\":loc_origin,\n",
    "        \"loc_destination\":loc_destination,\n",
    "        \"datetime\": str(datetime.now()+timedelta(hours=2)),\n",
    "        \"airline\":\"KLM\",\n",
    "        \"flight\":\"KL643\",\n",
    "    }\n",
    "    return json.dump(flight_info)\n",
    "\n",
    "\n",
    "function_descriptions = [\n",
    "    {\n",
    "        \"name\":\"get_flight_info\",\n",
    "        \"description\":\"get flight information between two loc\",\n",
    "        \"parameters\":{\n",
    "            \"type\":\"object\",\n",
    "            \"properties\":{\n",
    "                \"loc_origin\":{\n",
    "                    \"type\":\"string\",\n",
    "                    \"description\":\"The departure airport, e.g. DEL\",\n",
    "                },\n",
    "                \"loc_destination\":{\n",
    "                    \"type\":\"string\",\n",
    "                    \"description\":\"The destination airport, e.g. MUM\",\n",
    "                },\n",
    "            \n",
    "            },\n",
    "            \"required\": [\"loc_origin,loc_destination\"],\n",
    "        },\n",
    "    }\n",
    "]\n",
    "\n",
    "user_prompt = \"When's the next flight from new delhi to mumbai?\"\n",
    "\n",
    "response2 = client.chat.completions.create(\n",
    "    model=\"gpt-3.5-turbo\",\n",
    "    messages=[\n",
    "        {\n",
    "            \"role\":\"user\",\n",
    "            \"content\": user_prompt\n",
    "        }\n",
    "    ],\n",
    "    functions=function_descriptions,\n",
    "    function_call=\"auto\",\n",
    ")\n",
    "\n",
    "#response2.choices[0].message.function_call.arguments\n",
    "#params=json.loads(response2.choices[0].message.function_call.arguments)\n",
    "#json.loads(response2.choices[0].message.function_call.arguments).get(\"loc_origin\")"
   ]
  },
  {
   "cell_type": "markdown",
   "id": "1fc74c63-5e0d-4e16-9395-86a127b7c597",
   "metadata": {},
   "source": [
    "Try in Groq"
   ]
  },
  {
   "cell_type": "code",
   "execution_count": 75,
   "id": "7c8a6525-17e7-4b95-ac7d-f66adc5b893d",
   "metadata": {},
   "outputs": [],
   "source": [
    "prompt = f\"\"\"\n",
    "Please extract the following informations from: {student_custom_function} as JSON format\n",
    "\n",
    "This is the body of text to extract the information from:\n",
    "{description}\n",
    "\"\"\""
   ]
  },
  {
   "cell_type": "code",
   "execution_count": 76,
   "id": "9741091b-e2aa-43c4-8b1f-0e6863110c1e",
   "metadata": {},
   "outputs": [],
   "source": [
    "response2 = client.chat.completions.create(\n",
    "    model=\"llama3-8b-8192\",\n",
    "     messages=[\n",
    "        {\n",
    "            \"role\": \"user\",\n",
    "            \"content\": prompt\n",
    "        }\n",
    "     ]\n",
    ")"
   ]
  },
  {
   "cell_type": "code",
   "execution_count": 77,
   "id": "fa0772a7-9481-4dec-8f05-1240045ad6cc",
   "metadata": {},
   "outputs": [
    {
     "data": {
      "text/plain": [
       "'Based on the provided information, I can extract the student\\'s details from the given text. However, the original requirements do not specify the exact format of the output. Nevertheless, I will provide the extracted information in a tabular format for ease of reading:\\n\\n| Field | Value |\\n| --- | --- |\\n| Name | Yasemin Demirkaya |\\n| Collage | Mugla University |\\n| Grades | (Grade is not explicitly mentioned in the text, but it is an integer as required in the original parameter. In this case, I will leave it blank) |\\n\\nPlease note that some fields, like collage, have been matched based on the possibility that \"Mugla University\" is the collage name. Similarly, the grade information is not provided explicitly in the given text, so I have left it blank.'"
      ]
     },
     "execution_count": 77,
     "metadata": {},
     "output_type": "execute_result"
    }
   ],
   "source": [
    "response2.choices[0].message.content"
   ]
  },
  {
   "cell_type": "markdown",
   "id": "4f307859-bb69-4a70-8a6b-de2a35a890b4",
   "metadata": {},
   "source": [
    "# Introduction to LangChain"
   ]
  },
  {
   "cell_type": "code",
   "execution_count": null,
   "id": "8e3df3e5-48c5-4ca5-9acb-d2fb6bf52c89",
   "metadata": {},
   "outputs": [],
   "source": [
    "#!pip install langchain\n",
    "#!pip install langchain-groq"
   ]
  },
  {
   "cell_type": "code",
   "execution_count": 11,
   "id": "2b4c2c7f-593b-4401-87af-046db4641160",
   "metadata": {},
   "outputs": [
    {
     "data": {
      "text/plain": [
       "['__annotations__',\n",
       " '__class__',\n",
       " '__class_getitem__',\n",
       " '__delattr__',\n",
       " '__dict__',\n",
       " '__dir__',\n",
       " '__doc__',\n",
       " '__enter__',\n",
       " '__eq__',\n",
       " '__exit__',\n",
       " '__format__',\n",
       " '__ge__',\n",
       " '__getattribute__',\n",
       " '__gt__',\n",
       " '__hash__',\n",
       " '__init__',\n",
       " '__init_subclass__',\n",
       " '__le__',\n",
       " '__lt__',\n",
       " '__module__',\n",
       " '__ne__',\n",
       " '__new__',\n",
       " '__orig_bases__',\n",
       " '__parameters__',\n",
       " '__reduce__',\n",
       " '__reduce_ex__',\n",
       " '__repr__',\n",
       " '__setattr__',\n",
       " '__sizeof__',\n",
       " '__slots__',\n",
       " '__str__',\n",
       " '__subclasshook__',\n",
       " '__weakref__',\n",
       " '_base_url',\n",
       " '_build_headers',\n",
       " '_build_request',\n",
       " '_calculate_retry_timeout',\n",
       " '_client',\n",
       " '_custom_headers',\n",
       " '_custom_query',\n",
       " '_default_stream_cls',\n",
       " '_enforce_trailing_slash',\n",
       " '_idempotency_header',\n",
       " '_idempotency_key',\n",
       " '_is_protocol',\n",
       " '_limits',\n",
       " '_make_sse_decoder',\n",
       " '_make_status_error',\n",
       " '_make_status_error_from_response',\n",
       " '_maybe_override_cast_to',\n",
       " '_parse_retry_after_header',\n",
       " '_prepare_options',\n",
       " '_prepare_request',\n",
       " '_prepare_url',\n",
       " '_process_response',\n",
       " '_process_response_data',\n",
       " '_proxies',\n",
       " '_remaining_retries',\n",
       " '_request',\n",
       " '_request_api_list',\n",
       " '_retry_request',\n",
       " '_serialize_multipartform',\n",
       " '_should_retry',\n",
       " '_should_stream_response_body',\n",
       " '_strict_response_validation',\n",
       " '_transport',\n",
       " '_validate_headers',\n",
       " '_version',\n",
       " 'api_key',\n",
       " 'audio',\n",
       " 'auth_headers',\n",
       " 'base_url',\n",
       " 'chat',\n",
       " 'close',\n",
       " 'copy',\n",
       " 'custom_auth',\n",
       " 'default_headers',\n",
       " 'delete',\n",
       " 'embeddings',\n",
       " 'get',\n",
       " 'get_api_list',\n",
       " 'is_closed',\n",
       " 'max_retries',\n",
       " 'models',\n",
       " 'patch',\n",
       " 'platform_headers',\n",
       " 'post',\n",
       " 'put',\n",
       " 'qs',\n",
       " 'request',\n",
       " 'timeout',\n",
       " 'user_agent',\n",
       " 'with_options',\n",
       " 'with_raw_response',\n",
       " 'with_streaming_response']"
      ]
     },
     "execution_count": 11,
     "metadata": {},
     "output_type": "execute_result"
    }
   ],
   "source": [
    "dir(client)"
   ]
  },
  {
   "cell_type": "code",
   "execution_count": 22,
   "id": "b1d4016f-0129-4672-9932-c8e9beac5521",
   "metadata": {},
   "outputs": [
    {
     "data": {
      "text/plain": [
       "AIMessage(content=\"I am a helpful assistant, but I don't have the ability to predict the future. As of now, I can provide you with the most recent data available. According to Worldometer, a website that provides real-time statistics on various topics, the current world population is approximately 7,956,502,223 as of March 29, 2023. However, for the exact population in the future, you would need to refer to a reliable source closer to or on the year 2023.\", response_metadata={'token_usage': {'completion_time': 0.197003512, 'completion_tokens': 115, 'prompt_time': 0.006250686, 'prompt_tokens': 29, 'queue_time': None, 'total_time': 0.203254198, 'total_tokens': 144}, 'model_name': 'mixtral-8x7b-32768', 'system_fingerprint': 'fp_c5f20b5bb1', 'finish_reason': 'stop', 'logprobs': None}, id='run-39c8b569-8fe6-4f52-9cef-51c4b4485248-0')"
      ]
     },
     "execution_count": 22,
     "metadata": {},
     "output_type": "execute_result"
    }
   ],
   "source": [
    "#GROQ\n",
    "from langchain_core.prompts import ChatPromptTemplate\n",
    "from langchain_groq import ChatGroq\n",
    "\n",
    "chat = ChatGroq(temperature=0, groq_api_key=os.environ.get(\"GROQ_API_KEY\"), model_name=\"mixtral-8x7b-32768\")\n",
    "\n",
    "text = \"can you tell me the population of world in 2023\"\n",
    "system = \"You are a helpful assistant.\"\n",
    "human = \"{text}\"\n",
    "prompt = ChatPromptTemplate.from_messages([(\"system\", system), (\"human\", human)])\n",
    "\n",
    "chain = prompt | chat\n",
    "chain.invoke({\"text\": text})"
   ]
  },
  {
   "cell_type": "code",
   "execution_count": 29,
   "id": "2a7b225b-dc76-4e2f-a99e-25d49437ea23",
   "metadata": {},
   "outputs": [],
   "source": [
    "# PROMPT TEMPLATES\n",
    "from langchain.prompts import PromptTemplate\n",
    "prompt_template_name=PromptTemplate(\n",
    "    input_variables=[\"country\"],\n",
    "    template=\"can you tell me the capital of {country}?\"\n",
    ")"
   ]
  },
  {
   "cell_type": "code",
   "execution_count": 32,
   "id": "45b5bb2b-8c84-4572-bff4-3436d108f1dc",
   "metadata": {},
   "outputs": [],
   "source": [
    "prompt1 = prompt_template_name.format(country=\"turkey\")"
   ]
  },
  {
   "cell_type": "code",
   "execution_count": 33,
   "id": "341562ae-ecda-4bba-be92-5e946a132bb9",
   "metadata": {},
   "outputs": [
    {
     "data": {
      "text/plain": [
       "\"Of course, I'd be happy to help! The capital of Turkey is Ankara. It's located in the central part of the country and is the second largest city in Turkey, after Istanbul. Ankara became the capital in 1923, replacing Istanbul (then known as Constantinople) when the Republic of Turkey was established under the leadership of Mustafa Kemal Atatürk. Is there anything else you would like to know?\""
      ]
     },
     "execution_count": 33,
     "metadata": {},
     "output_type": "execute_result"
    }
   ],
   "source": [
    "chain.invoke({\"text\":prompt1}).content.strip()"
   ]
  },
  {
   "cell_type": "markdown",
   "id": "f94cb16a-89fb-4b9a-8588-0257b0b770e3",
   "metadata": {},
   "source": [
    "prompt=PromptTemplate.from_template(\"What is a good name for a company that makes a {product}\")\n",
    "prompt2=prompt.format(product=\"toys\")\n",
    "chain.invoke({\"text\":prompt2}).content.strip()"
   ]
  },
  {
   "cell_type": "code",
   "execution_count": 35,
   "id": "a35c287f-1d93-4434-97a7-fedd4cc967b8",
   "metadata": {},
   "outputs": [
    {
     "data": {
      "text/plain": [
       "\"I'm unable to provide the information about the winner of Eurovision 2024, as the contest hasn't taken place yet and the winner hasn't been determined. The Eurovision Song Contest is an annual international song competition that is usually held in May. The winner is decided through a combination of jury votes and public votes from each participating country. The Eurovision Song Contest is a popular and long-running television program that has been airing annually since 1956.\""
      ]
     },
     "execution_count": 35,
     "metadata": {},
     "output_type": "execute_result"
    }
   ],
   "source": [
    "chain.invoke({\"text\":\"who is the winner of eurovision 2024\"}).content.strip()"
   ]
  },
  {
   "cell_type": "markdown",
   "id": "a0cd131e-ec87-469f-9c8c-e64a38257cfa",
   "metadata": {},
   "source": [
    "For extracting a real time info i am going to use serp api now by using this serp api i ll call google-search-engine and i ll extract the information in a real time"
   ]
  },
  {
   "cell_type": "markdown",
   "id": "06555379-595e-4fa6-a585-d2b2e0450071",
   "metadata": {},
   "source": [
    "## Langchain Agents Serp API (openai)"
   ]
  },
  {
   "cell_type": "code",
   "execution_count": null,
   "id": "6c2d4865-bccd-4833-88a0-50334f93ad13",
   "metadata": {},
   "outputs": [],
   "source": [
    "#!pip install google-search-results"
   ]
  },
  {
   "cell_type": "code",
   "execution_count": null,
   "id": "b40a1b54-ba1c-40dc-a0a7-269b0b59db2b",
   "metadata": {},
   "outputs": [],
   "source": [
    "#!pip install -U langchain-community\n",
    "#!pip install wikipedia"
   ]
  },
  {
   "cell_type": "code",
   "execution_count": 2,
   "id": "2d12e4a1-e113-457b-968b-d363ad4708ae",
   "metadata": {},
   "outputs": [],
   "source": [
    " serpapi_key = os.environ.get(\"SERP_API_KEY\")"
   ]
  },
  {
   "cell_type": "code",
   "execution_count": 3,
   "id": "ccef2b35-9fe4-4972-afb6-a6c8fa136754",
   "metadata": {},
   "outputs": [],
   "source": [
    "from langchain.agents import AgentType, load_tools, initialize_agent\n",
    "from langchain.llms import OpenAI"
   ]
  },
  {
   "cell_type": "code",
   "execution_count": 4,
   "id": "b311b435-ad45-4e6b-8c5b-cee54134be2d",
   "metadata": {},
   "outputs": [],
   "source": [
    "client = Groq(\n",
    "    api_key=os.environ.get(\"OPENAI_API_KEY\")\n",
    ")\n",
    "tool=load_tools([\"serpapi\"],serpapi_api_key=os.environ.get(\"SERP_API_KEY\"),llm=client)"
   ]
  },
  {
   "cell_type": "code",
   "execution_count": null,
   "id": "aa8519e7-1a52-4e1a-846b-6766b1049724",
   "metadata": {},
   "outputs": [],
   "source": [
    "agent=initialize_agent(tool,client,agent=AgentType.ZERO_SHOT_REACT_DESCRIPTION,verbose=True)\n",
    "agent.run(\"can u tell me who won the cricket worldcup recetly?\")"
   ]
  },
  {
   "cell_type": "code",
   "execution_count": null,
   "id": "4499f38e-8ae7-4b06-8915-84fb9c111d2a",
   "metadata": {},
   "outputs": [],
   "source": [
    "tool = load_tools([\"wikipedia\"],llm=client)"
   ]
  },
  {
   "cell_type": "code",
   "execution_count": null,
   "id": "f2c64a62-2216-4213-b226-6e5e3c220380",
   "metadata": {},
   "outputs": [],
   "source": [
    "from langchain.chains import LLMChain\n",
    "from langchain.prompts import PrompTemplate\n",
    "\n",
    "prompt=PromptTemplate.from_template(\"What is a good name for a company that makes {product}\")\n",
    "chain=LLMChain(llm=client,prompt=prompt)\n",
    "chain.run(\"Wine\").stript()"
   ]
  },
  {
   "cell_type": "markdown",
   "id": "ffe3a5c0-3168-4840-8c2f-ea78ae1d04d5",
   "metadata": {},
   "source": [
    "if we want to combine multiple chain and set a sequence for that we use simplesequential chain"
   ]
  },
  {
   "cell_type": "code",
   "execution_count": null,
   "id": "654b3336-d004-4bee-927c-c0297725c2f6",
   "metadata": {},
   "outputs": [],
   "source": [
    "from langchain.chains import SimpleSequentialChain\n",
    "\n",
    "prompt=PromptTemplate.from_template(input_variables[\"name\"],template=\"What is a good name for a company that makes {product}\")\n",
    "chain1=LLMChain(llm=client,prompt=prompt)\n",
    "prompt=PromptTemplate.from_template(input_variables[\"name\"],template=\"What is a good name for a company that makes {product}\")\n",
    "chain2=LLMChain(llm=client,prompt=prompt)\n",
    "\n",
    "chain=SimpleSequentialChain(chains=[chain1,chain2])\n",
    "chain.run(\"variable\")"
   ]
  },
  {
   "cell_type": "markdown",
   "id": "3176180b-ce2b-41d5-a955-4e9dc77d70e5",
   "metadata": {},
   "source": [
    "Try to understand Sequential chain"
   ]
  },
  {
   "cell_type": "code",
   "execution_count": null,
   "id": "1ccc9c90-db4e-460e-92e7-0a57f4de8401",
   "metadata": {},
   "outputs": [],
   "source": [
    "chain=SimpleSequentialChain(chains=[chain1,chain2],input_variables=[\"var1\"],output_variables=[\"var2\",\"var3\"])"
   ]
  },
  {
   "cell_type": "code",
   "execution_count": null,
   "id": "3f0f55ad-8336-4534-996b-7863cdddebd4",
   "metadata": {},
   "outputs": [],
   "source": []
  }
 ],
 "metadata": {
  "kernelspec": {
   "display_name": "Python 3 (ipykernel)",
   "language": "python",
   "name": "python3"
  },
  "language_info": {
   "codemirror_mode": {
    "name": "ipython",
    "version": 3
   },
   "file_extension": ".py",
   "mimetype": "text/x-python",
   "name": "python",
   "nbconvert_exporter": "python",
   "pygments_lexer": "ipython3",
   "version": "3.8.19"
  }
 },
 "nbformat": 4,
 "nbformat_minor": 5
}
